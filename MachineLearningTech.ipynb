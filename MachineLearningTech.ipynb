{
  "nbformat": 4,
  "nbformat_minor": 0,
  "metadata": {
    "colab": {
      "provenance": [],
      "authorship_tag": "ABX9TyOmlgW9c+SoDrW0cxwTxv9E",
      "include_colab_link": true
    },
    "kernelspec": {
      "name": "python3",
      "display_name": "Python 3"
    },
    "language_info": {
      "name": "python"
    }
  },
  "cells": [
    {
      "cell_type": "markdown",
      "metadata": {
        "id": "view-in-github",
        "colab_type": "text"
      },
      "source": [
        "<a href=\"https://colab.research.google.com/github/sarahnolan15/APA-Project-/blob/main/MachineLearningTech.ipynb\" target=\"_parent\"><img src=\"https://colab.research.google.com/assets/colab-badge.svg\" alt=\"Open In Colab\"/></a>"
      ]
    },
    {
      "cell_type": "code",
      "source": [
        "import pandas as pd"
      ],
      "metadata": {
        "id": "f7RA4wT3aBZo"
      },
      "execution_count": 9,
      "outputs": []
    },
    {
      "cell_type": "code",
      "execution_count": 10,
      "metadata": {
        "colab": {
          "base_uri": "https://localhost:8080/",
          "height": 424
        },
        "id": "s1tmqdYGZOZg",
        "outputId": "192700db-2557-4ca2-ac08-822413fc9c5c"
      },
      "outputs": [
        {
          "output_type": "execute_result",
          "data": {
            "text/plain": [
              "        ID                           Area  Gross_income Greater_30 Less_30  \\\n",
              "0        1  001  Carlow Urban, Co. Carlow         28511      35617   22520   \n",
              "1        2  002 Graigue Urban, Co. Carlow         28645      31854   21180   \n",
              "2        3       003 Clonmore, Co. Carlow         52789      43499   25389   \n",
              "3        4    004 Hacketstown, Co. Carlow         35810      33827   25791   \n",
              "4        5    005 Haroldstown, Co. Carlow         42365      33790   28277   \n",
              "...    ...                            ...           ...        ...     ...   \n",
              "3404  3405  066 Shanmullagh, Co. Monaghan         36738         ..      ..   \n",
              "3405  3406      067 Sheskin, Co. Monaghan         37820      30508   22642   \n",
              "3406  3407     068 Tedavnet, Co. Monaghan         45616      37411   26294   \n",
              "3407  3408     069 Tehallan, Co. Monaghan         45161      40420   25634   \n",
              "3408  3409  070 Tullycorbet, Co. Monaghan         42166      33448   29457   \n",
              "\n",
              "     Social_welfare Pension_percent Agriculture Construstion Finance   ICT  \\\n",
              "0              29.4            15.8         1.1            5      14    11   \n",
              "1              26.3            20.4           2          8.3    16.2   8.1   \n",
              "2              12.1              17        10.6          8.9    13.3  12.2   \n",
              "3              23.5              14         6.6         10.5     9.8  12.2   \n",
              "4              14.6            18.8        12.1         10.2      11  13.5   \n",
              "...             ...             ...         ...          ...     ...   ...   \n",
              "3404           13.1              23        15.8         12.5    11.6   2.3   \n",
              "3405           18.2            14.3        12.9         10.1     7.9   7.3   \n",
              "3406           11.1            13.9        11.3          6.2     9.7   4.2   \n",
              "3407             11            14.8         6.4          5.9     9.5   7.5   \n",
              "3408            8.8            22.5        15.6            7     7.4   7.1   \n",
              "\n",
              "     Industry  Public  Wholesale  \n",
              "0        12.6    30.9       25.3  \n",
              "1        12.7    25.7       26.9  \n",
              "2        13.9    27.3       13.7  \n",
              "3        12.5    24.7       23.7  \n",
              "4        14.6    23.2       15.4  \n",
              "...       ...     ...        ...  \n",
              "3404     25.6    20.2       12.0  \n",
              "3405     11.3    26.3       24.1  \n",
              "3406       10    33.6       24.9  \n",
              "3407     12.6    30.2       28.1  \n",
              "3408     13.2    30.1       19.5  \n",
              "\n",
              "[3409 rows x 14 columns]"
            ],
            "text/html": [
              "\n",
              "  <div id=\"df-30938881-df8a-4fde-857c-3bb9edc6e4e2\">\n",
              "    <div class=\"colab-df-container\">\n",
              "      <div>\n",
              "<style scoped>\n",
              "    .dataframe tbody tr th:only-of-type {\n",
              "        vertical-align: middle;\n",
              "    }\n",
              "\n",
              "    .dataframe tbody tr th {\n",
              "        vertical-align: top;\n",
              "    }\n",
              "\n",
              "    .dataframe thead th {\n",
              "        text-align: right;\n",
              "    }\n",
              "</style>\n",
              "<table border=\"1\" class=\"dataframe\">\n",
              "  <thead>\n",
              "    <tr style=\"text-align: right;\">\n",
              "      <th></th>\n",
              "      <th>ID</th>\n",
              "      <th>Area</th>\n",
              "      <th>Gross_income</th>\n",
              "      <th>Greater_30</th>\n",
              "      <th>Less_30</th>\n",
              "      <th>Social_welfare</th>\n",
              "      <th>Pension_percent</th>\n",
              "      <th>Agriculture</th>\n",
              "      <th>Construstion</th>\n",
              "      <th>Finance</th>\n",
              "      <th>ICT</th>\n",
              "      <th>Industry</th>\n",
              "      <th>Public</th>\n",
              "      <th>Wholesale</th>\n",
              "    </tr>\n",
              "  </thead>\n",
              "  <tbody>\n",
              "    <tr>\n",
              "      <th>0</th>\n",
              "      <td>1</td>\n",
              "      <td>001  Carlow Urban, Co. Carlow</td>\n",
              "      <td>28511</td>\n",
              "      <td>35617</td>\n",
              "      <td>22520</td>\n",
              "      <td>29.4</td>\n",
              "      <td>15.8</td>\n",
              "      <td>1.1</td>\n",
              "      <td>5</td>\n",
              "      <td>14</td>\n",
              "      <td>11</td>\n",
              "      <td>12.6</td>\n",
              "      <td>30.9</td>\n",
              "      <td>25.3</td>\n",
              "    </tr>\n",
              "    <tr>\n",
              "      <th>1</th>\n",
              "      <td>2</td>\n",
              "      <td>002 Graigue Urban, Co. Carlow</td>\n",
              "      <td>28645</td>\n",
              "      <td>31854</td>\n",
              "      <td>21180</td>\n",
              "      <td>26.3</td>\n",
              "      <td>20.4</td>\n",
              "      <td>2</td>\n",
              "      <td>8.3</td>\n",
              "      <td>16.2</td>\n",
              "      <td>8.1</td>\n",
              "      <td>12.7</td>\n",
              "      <td>25.7</td>\n",
              "      <td>26.9</td>\n",
              "    </tr>\n",
              "    <tr>\n",
              "      <th>2</th>\n",
              "      <td>3</td>\n",
              "      <td>003 Clonmore, Co. Carlow</td>\n",
              "      <td>52789</td>\n",
              "      <td>43499</td>\n",
              "      <td>25389</td>\n",
              "      <td>12.1</td>\n",
              "      <td>17</td>\n",
              "      <td>10.6</td>\n",
              "      <td>8.9</td>\n",
              "      <td>13.3</td>\n",
              "      <td>12.2</td>\n",
              "      <td>13.9</td>\n",
              "      <td>27.3</td>\n",
              "      <td>13.7</td>\n",
              "    </tr>\n",
              "    <tr>\n",
              "      <th>3</th>\n",
              "      <td>4</td>\n",
              "      <td>004 Hacketstown, Co. Carlow</td>\n",
              "      <td>35810</td>\n",
              "      <td>33827</td>\n",
              "      <td>25791</td>\n",
              "      <td>23.5</td>\n",
              "      <td>14</td>\n",
              "      <td>6.6</td>\n",
              "      <td>10.5</td>\n",
              "      <td>9.8</td>\n",
              "      <td>12.2</td>\n",
              "      <td>12.5</td>\n",
              "      <td>24.7</td>\n",
              "      <td>23.7</td>\n",
              "    </tr>\n",
              "    <tr>\n",
              "      <th>4</th>\n",
              "      <td>5</td>\n",
              "      <td>005 Haroldstown, Co. Carlow</td>\n",
              "      <td>42365</td>\n",
              "      <td>33790</td>\n",
              "      <td>28277</td>\n",
              "      <td>14.6</td>\n",
              "      <td>18.8</td>\n",
              "      <td>12.1</td>\n",
              "      <td>10.2</td>\n",
              "      <td>11</td>\n",
              "      <td>13.5</td>\n",
              "      <td>14.6</td>\n",
              "      <td>23.2</td>\n",
              "      <td>15.4</td>\n",
              "    </tr>\n",
              "    <tr>\n",
              "      <th>...</th>\n",
              "      <td>...</td>\n",
              "      <td>...</td>\n",
              "      <td>...</td>\n",
              "      <td>...</td>\n",
              "      <td>...</td>\n",
              "      <td>...</td>\n",
              "      <td>...</td>\n",
              "      <td>...</td>\n",
              "      <td>...</td>\n",
              "      <td>...</td>\n",
              "      <td>...</td>\n",
              "      <td>...</td>\n",
              "      <td>...</td>\n",
              "      <td>...</td>\n",
              "    </tr>\n",
              "    <tr>\n",
              "      <th>3404</th>\n",
              "      <td>3405</td>\n",
              "      <td>066 Shanmullagh, Co. Monaghan</td>\n",
              "      <td>36738</td>\n",
              "      <td>..</td>\n",
              "      <td>..</td>\n",
              "      <td>13.1</td>\n",
              "      <td>23</td>\n",
              "      <td>15.8</td>\n",
              "      <td>12.5</td>\n",
              "      <td>11.6</td>\n",
              "      <td>2.3</td>\n",
              "      <td>25.6</td>\n",
              "      <td>20.2</td>\n",
              "      <td>12.0</td>\n",
              "    </tr>\n",
              "    <tr>\n",
              "      <th>3405</th>\n",
              "      <td>3406</td>\n",
              "      <td>067 Sheskin, Co. Monaghan</td>\n",
              "      <td>37820</td>\n",
              "      <td>30508</td>\n",
              "      <td>22642</td>\n",
              "      <td>18.2</td>\n",
              "      <td>14.3</td>\n",
              "      <td>12.9</td>\n",
              "      <td>10.1</td>\n",
              "      <td>7.9</td>\n",
              "      <td>7.3</td>\n",
              "      <td>11.3</td>\n",
              "      <td>26.3</td>\n",
              "      <td>24.1</td>\n",
              "    </tr>\n",
              "    <tr>\n",
              "      <th>3406</th>\n",
              "      <td>3407</td>\n",
              "      <td>068 Tedavnet, Co. Monaghan</td>\n",
              "      <td>45616</td>\n",
              "      <td>37411</td>\n",
              "      <td>26294</td>\n",
              "      <td>11.1</td>\n",
              "      <td>13.9</td>\n",
              "      <td>11.3</td>\n",
              "      <td>6.2</td>\n",
              "      <td>9.7</td>\n",
              "      <td>4.2</td>\n",
              "      <td>10</td>\n",
              "      <td>33.6</td>\n",
              "      <td>24.9</td>\n",
              "    </tr>\n",
              "    <tr>\n",
              "      <th>3407</th>\n",
              "      <td>3408</td>\n",
              "      <td>069 Tehallan, Co. Monaghan</td>\n",
              "      <td>45161</td>\n",
              "      <td>40420</td>\n",
              "      <td>25634</td>\n",
              "      <td>11</td>\n",
              "      <td>14.8</td>\n",
              "      <td>6.4</td>\n",
              "      <td>5.9</td>\n",
              "      <td>9.5</td>\n",
              "      <td>7.5</td>\n",
              "      <td>12.6</td>\n",
              "      <td>30.2</td>\n",
              "      <td>28.1</td>\n",
              "    </tr>\n",
              "    <tr>\n",
              "      <th>3408</th>\n",
              "      <td>3409</td>\n",
              "      <td>070 Tullycorbet, Co. Monaghan</td>\n",
              "      <td>42166</td>\n",
              "      <td>33448</td>\n",
              "      <td>29457</td>\n",
              "      <td>8.8</td>\n",
              "      <td>22.5</td>\n",
              "      <td>15.6</td>\n",
              "      <td>7</td>\n",
              "      <td>7.4</td>\n",
              "      <td>7.1</td>\n",
              "      <td>13.2</td>\n",
              "      <td>30.1</td>\n",
              "      <td>19.5</td>\n",
              "    </tr>\n",
              "  </tbody>\n",
              "</table>\n",
              "<p>3409 rows × 14 columns</p>\n",
              "</div>\n",
              "      <button class=\"colab-df-convert\" onclick=\"convertToInteractive('df-30938881-df8a-4fde-857c-3bb9edc6e4e2')\"\n",
              "              title=\"Convert this dataframe to an interactive table.\"\n",
              "              style=\"display:none;\">\n",
              "        \n",
              "  <svg xmlns=\"http://www.w3.org/2000/svg\" height=\"24px\"viewBox=\"0 0 24 24\"\n",
              "       width=\"24px\">\n",
              "    <path d=\"M0 0h24v24H0V0z\" fill=\"none\"/>\n",
              "    <path d=\"M18.56 5.44l.94 2.06.94-2.06 2.06-.94-2.06-.94-.94-2.06-.94 2.06-2.06.94zm-11 1L8.5 8.5l.94-2.06 2.06-.94-2.06-.94L8.5 2.5l-.94 2.06-2.06.94zm10 10l.94 2.06.94-2.06 2.06-.94-2.06-.94-.94-2.06-.94 2.06-2.06.94z\"/><path d=\"M17.41 7.96l-1.37-1.37c-.4-.4-.92-.59-1.43-.59-.52 0-1.04.2-1.43.59L10.3 9.45l-7.72 7.72c-.78.78-.78 2.05 0 2.83L4 21.41c.39.39.9.59 1.41.59.51 0 1.02-.2 1.41-.59l7.78-7.78 2.81-2.81c.8-.78.8-2.07 0-2.86zM5.41 20L4 18.59l7.72-7.72 1.47 1.35L5.41 20z\"/>\n",
              "  </svg>\n",
              "      </button>\n",
              "      \n",
              "  <style>\n",
              "    .colab-df-container {\n",
              "      display:flex;\n",
              "      flex-wrap:wrap;\n",
              "      gap: 12px;\n",
              "    }\n",
              "\n",
              "    .colab-df-convert {\n",
              "      background-color: #E8F0FE;\n",
              "      border: none;\n",
              "      border-radius: 50%;\n",
              "      cursor: pointer;\n",
              "      display: none;\n",
              "      fill: #1967D2;\n",
              "      height: 32px;\n",
              "      padding: 0 0 0 0;\n",
              "      width: 32px;\n",
              "    }\n",
              "\n",
              "    .colab-df-convert:hover {\n",
              "      background-color: #E2EBFA;\n",
              "      box-shadow: 0px 1px 2px rgba(60, 64, 67, 0.3), 0px 1px 3px 1px rgba(60, 64, 67, 0.15);\n",
              "      fill: #174EA6;\n",
              "    }\n",
              "\n",
              "    [theme=dark] .colab-df-convert {\n",
              "      background-color: #3B4455;\n",
              "      fill: #D2E3FC;\n",
              "    }\n",
              "\n",
              "    [theme=dark] .colab-df-convert:hover {\n",
              "      background-color: #434B5C;\n",
              "      box-shadow: 0px 1px 3px 1px rgba(0, 0, 0, 0.15);\n",
              "      filter: drop-shadow(0px 1px 2px rgba(0, 0, 0, 0.3));\n",
              "      fill: #FFFFFF;\n",
              "    }\n",
              "  </style>\n",
              "\n",
              "      <script>\n",
              "        const buttonEl =\n",
              "          document.querySelector('#df-30938881-df8a-4fde-857c-3bb9edc6e4e2 button.colab-df-convert');\n",
              "        buttonEl.style.display =\n",
              "          google.colab.kernel.accessAllowed ? 'block' : 'none';\n",
              "\n",
              "        async function convertToInteractive(key) {\n",
              "          const element = document.querySelector('#df-30938881-df8a-4fde-857c-3bb9edc6e4e2');\n",
              "          const dataTable =\n",
              "            await google.colab.kernel.invokeFunction('convertToInteractive',\n",
              "                                                     [key], {});\n",
              "          if (!dataTable) return;\n",
              "\n",
              "          const docLinkHtml = 'Like what you see? Visit the ' +\n",
              "            '<a target=\"_blank\" href=https://colab.research.google.com/notebooks/data_table.ipynb>data table notebook</a>'\n",
              "            + ' to learn more about interactive tables.';\n",
              "          element.innerHTML = '';\n",
              "          dataTable['output_type'] = 'display_data';\n",
              "          await google.colab.output.renderOutput(dataTable, element);\n",
              "          const docLink = document.createElement('div');\n",
              "          docLink.innerHTML = docLinkHtml;\n",
              "          element.appendChild(docLink);\n",
              "        }\n",
              "      </script>\n",
              "    </div>\n",
              "  </div>\n",
              "  "
            ]
          },
          "metadata": {},
          "execution_count": 10
        }
      ],
      "source": [
        "df = pd.read_csv('Census.csv')\n",
        "df"
      ]
    },
    {
      "cell_type": "code",
      "source": [
        "df.describe()"
      ],
      "metadata": {
        "colab": {
          "base_uri": "https://localhost:8080/",
          "height": 300
        },
        "id": "6Moc4CkxkIvp",
        "outputId": "674a0a3d-fad3-4644-fcac-40e769bef237"
      },
      "execution_count": 12,
      "outputs": [
        {
          "output_type": "execute_result",
          "data": {
            "text/plain": [
              "                ID   Gross_income       Public    Wholesale\n",
              "count  3409.000000    3409.000000  3409.000000  3409.000000\n",
              "mean   1705.000000   44477.282194    29.322382    18.207246\n",
              "std     984.237861   11402.754619     6.108653     4.560634\n",
              "min       1.000000   14901.000000    10.700000     2.100000\n",
              "25%     853.000000   36495.000000    25.000000    15.100000\n",
              "50%    1705.000000   43499.000000    29.000000    17.800000\n",
              "75%    2557.000000   51242.000000    33.000000    20.800000\n",
              "max    3409.000000  105943.000000    57.000000    43.700000"
            ],
            "text/html": [
              "\n",
              "  <div id=\"df-637a2009-549e-4278-b98b-24c015b31824\">\n",
              "    <div class=\"colab-df-container\">\n",
              "      <div>\n",
              "<style scoped>\n",
              "    .dataframe tbody tr th:only-of-type {\n",
              "        vertical-align: middle;\n",
              "    }\n",
              "\n",
              "    .dataframe tbody tr th {\n",
              "        vertical-align: top;\n",
              "    }\n",
              "\n",
              "    .dataframe thead th {\n",
              "        text-align: right;\n",
              "    }\n",
              "</style>\n",
              "<table border=\"1\" class=\"dataframe\">\n",
              "  <thead>\n",
              "    <tr style=\"text-align: right;\">\n",
              "      <th></th>\n",
              "      <th>ID</th>\n",
              "      <th>Gross_income</th>\n",
              "      <th>Public</th>\n",
              "      <th>Wholesale</th>\n",
              "    </tr>\n",
              "  </thead>\n",
              "  <tbody>\n",
              "    <tr>\n",
              "      <th>count</th>\n",
              "      <td>3409.000000</td>\n",
              "      <td>3409.000000</td>\n",
              "      <td>3409.000000</td>\n",
              "      <td>3409.000000</td>\n",
              "    </tr>\n",
              "    <tr>\n",
              "      <th>mean</th>\n",
              "      <td>1705.000000</td>\n",
              "      <td>44477.282194</td>\n",
              "      <td>29.322382</td>\n",
              "      <td>18.207246</td>\n",
              "    </tr>\n",
              "    <tr>\n",
              "      <th>std</th>\n",
              "      <td>984.237861</td>\n",
              "      <td>11402.754619</td>\n",
              "      <td>6.108653</td>\n",
              "      <td>4.560634</td>\n",
              "    </tr>\n",
              "    <tr>\n",
              "      <th>min</th>\n",
              "      <td>1.000000</td>\n",
              "      <td>14901.000000</td>\n",
              "      <td>10.700000</td>\n",
              "      <td>2.100000</td>\n",
              "    </tr>\n",
              "    <tr>\n",
              "      <th>25%</th>\n",
              "      <td>853.000000</td>\n",
              "      <td>36495.000000</td>\n",
              "      <td>25.000000</td>\n",
              "      <td>15.100000</td>\n",
              "    </tr>\n",
              "    <tr>\n",
              "      <th>50%</th>\n",
              "      <td>1705.000000</td>\n",
              "      <td>43499.000000</td>\n",
              "      <td>29.000000</td>\n",
              "      <td>17.800000</td>\n",
              "    </tr>\n",
              "    <tr>\n",
              "      <th>75%</th>\n",
              "      <td>2557.000000</td>\n",
              "      <td>51242.000000</td>\n",
              "      <td>33.000000</td>\n",
              "      <td>20.800000</td>\n",
              "    </tr>\n",
              "    <tr>\n",
              "      <th>max</th>\n",
              "      <td>3409.000000</td>\n",
              "      <td>105943.000000</td>\n",
              "      <td>57.000000</td>\n",
              "      <td>43.700000</td>\n",
              "    </tr>\n",
              "  </tbody>\n",
              "</table>\n",
              "</div>\n",
              "      <button class=\"colab-df-convert\" onclick=\"convertToInteractive('df-637a2009-549e-4278-b98b-24c015b31824')\"\n",
              "              title=\"Convert this dataframe to an interactive table.\"\n",
              "              style=\"display:none;\">\n",
              "        \n",
              "  <svg xmlns=\"http://www.w3.org/2000/svg\" height=\"24px\"viewBox=\"0 0 24 24\"\n",
              "       width=\"24px\">\n",
              "    <path d=\"M0 0h24v24H0V0z\" fill=\"none\"/>\n",
              "    <path d=\"M18.56 5.44l.94 2.06.94-2.06 2.06-.94-2.06-.94-.94-2.06-.94 2.06-2.06.94zm-11 1L8.5 8.5l.94-2.06 2.06-.94-2.06-.94L8.5 2.5l-.94 2.06-2.06.94zm10 10l.94 2.06.94-2.06 2.06-.94-2.06-.94-.94-2.06-.94 2.06-2.06.94z\"/><path d=\"M17.41 7.96l-1.37-1.37c-.4-.4-.92-.59-1.43-.59-.52 0-1.04.2-1.43.59L10.3 9.45l-7.72 7.72c-.78.78-.78 2.05 0 2.83L4 21.41c.39.39.9.59 1.41.59.51 0 1.02-.2 1.41-.59l7.78-7.78 2.81-2.81c.8-.78.8-2.07 0-2.86zM5.41 20L4 18.59l7.72-7.72 1.47 1.35L5.41 20z\"/>\n",
              "  </svg>\n",
              "      </button>\n",
              "      \n",
              "  <style>\n",
              "    .colab-df-container {\n",
              "      display:flex;\n",
              "      flex-wrap:wrap;\n",
              "      gap: 12px;\n",
              "    }\n",
              "\n",
              "    .colab-df-convert {\n",
              "      background-color: #E8F0FE;\n",
              "      border: none;\n",
              "      border-radius: 50%;\n",
              "      cursor: pointer;\n",
              "      display: none;\n",
              "      fill: #1967D2;\n",
              "      height: 32px;\n",
              "      padding: 0 0 0 0;\n",
              "      width: 32px;\n",
              "    }\n",
              "\n",
              "    .colab-df-convert:hover {\n",
              "      background-color: #E2EBFA;\n",
              "      box-shadow: 0px 1px 2px rgba(60, 64, 67, 0.3), 0px 1px 3px 1px rgba(60, 64, 67, 0.15);\n",
              "      fill: #174EA6;\n",
              "    }\n",
              "\n",
              "    [theme=dark] .colab-df-convert {\n",
              "      background-color: #3B4455;\n",
              "      fill: #D2E3FC;\n",
              "    }\n",
              "\n",
              "    [theme=dark] .colab-df-convert:hover {\n",
              "      background-color: #434B5C;\n",
              "      box-shadow: 0px 1px 3px 1px rgba(0, 0, 0, 0.15);\n",
              "      filter: drop-shadow(0px 1px 2px rgba(0, 0, 0, 0.3));\n",
              "      fill: #FFFFFF;\n",
              "    }\n",
              "  </style>\n",
              "\n",
              "      <script>\n",
              "        const buttonEl =\n",
              "          document.querySelector('#df-637a2009-549e-4278-b98b-24c015b31824 button.colab-df-convert');\n",
              "        buttonEl.style.display =\n",
              "          google.colab.kernel.accessAllowed ? 'block' : 'none';\n",
              "\n",
              "        async function convertToInteractive(key) {\n",
              "          const element = document.querySelector('#df-637a2009-549e-4278-b98b-24c015b31824');\n",
              "          const dataTable =\n",
              "            await google.colab.kernel.invokeFunction('convertToInteractive',\n",
              "                                                     [key], {});\n",
              "          if (!dataTable) return;\n",
              "\n",
              "          const docLinkHtml = 'Like what you see? Visit the ' +\n",
              "            '<a target=\"_blank\" href=https://colab.research.google.com/notebooks/data_table.ipynb>data table notebook</a>'\n",
              "            + ' to learn more about interactive tables.';\n",
              "          element.innerHTML = '';\n",
              "          dataTable['output_type'] = 'display_data';\n",
              "          await google.colab.output.renderOutput(dataTable, element);\n",
              "          const docLink = document.createElement('div');\n",
              "          docLink.innerHTML = docLinkHtml;\n",
              "          element.appendChild(docLink);\n",
              "        }\n",
              "      </script>\n",
              "    </div>\n",
              "  </div>\n",
              "  "
            ]
          },
          "metadata": {},
          "execution_count": 12
        }
      ]
    },
    {
      "cell_type": "code",
      "source": [
        "df.dtypes"
      ],
      "metadata": {
        "colab": {
          "base_uri": "https://localhost:8080/"
        },
        "id": "k6nk25t_kOOV",
        "outputId": "66e1978e-3f07-45ce-d96b-d1ff948a32a0"
      },
      "execution_count": 13,
      "outputs": [
        {
          "output_type": "execute_result",
          "data": {
            "text/plain": [
              "ID                   int64\n",
              "Area                object\n",
              "Gross_income         int64\n",
              "Greater_30          object\n",
              "Less_30             object\n",
              "Social_welfare      object\n",
              "Pension_percent     object\n",
              "Agriculture         object\n",
              "Construstion        object\n",
              "Finance             object\n",
              "ICT                 object\n",
              "Industry            object\n",
              "Public             float64\n",
              "Wholesale          float64\n",
              "dtype: object"
            ]
          },
          "metadata": {},
          "execution_count": 13
        }
      ]
    },
    {
      "cell_type": "code",
      "source": [
        "print(df.isna().sum())"
      ],
      "metadata": {
        "colab": {
          "base_uri": "https://localhost:8080/"
        },
        "id": "H8hKW3X5aI-A",
        "outputId": "22c175c9-8d53-4592-b8f1-48779eb1e7f1"
      },
      "execution_count": 14,
      "outputs": [
        {
          "output_type": "stream",
          "name": "stdout",
          "text": [
            "ID                 0\n",
            "Area               0\n",
            "Gross_income       0\n",
            "Greater_30         0\n",
            "Less_30            0\n",
            "Social_welfare     0\n",
            "Pension_percent    0\n",
            "Agriculture        0\n",
            "Construstion       0\n",
            "Finance            0\n",
            "ICT                0\n",
            "Industry           0\n",
            "Public             0\n",
            "Wholesale          0\n",
            "dtype: int64\n"
          ]
        }
      ]
    },
    {
      "cell_type": "code",
      "source": [
        "missing = (df == '..').sum()\n",
        "\n",
        "print(missing)"
      ],
      "metadata": {
        "colab": {
          "base_uri": "https://localhost:8080/"
        },
        "id": "aVnFLvhzaQF7",
        "outputId": "7612568f-a20f-4274-9268-802eb9f25dbc"
      },
      "execution_count": 15,
      "outputs": [
        {
          "output_type": "stream",
          "name": "stdout",
          "text": [
            "ID                   0\n",
            "Area                 0\n",
            "Gross_income         0\n",
            "Greater_30         307\n",
            "Less_30            305\n",
            "Social_welfare       1\n",
            "Pension_percent      1\n",
            "Agriculture        121\n",
            "Construstion         4\n",
            "Finance              1\n",
            "ICT                  9\n",
            "Industry             6\n",
            "Public               0\n",
            "Wholesale            0\n",
            "dtype: int64\n"
          ]
        }
      ]
    },
    {
      "cell_type": "code",
      "source": [
        "df = df.replace('..', 0)\n",
        "df.to_csv('updated_dataset.csv', index=False)"
      ],
      "metadata": {
        "id": "-H-7k2_Tmd-3"
      },
      "execution_count": 16,
      "outputs": []
    },
    {
      "cell_type": "code",
      "source": [
        "missing = (df == '..').sum()\n",
        "\n",
        "print(missing)"
      ],
      "metadata": {
        "colab": {
          "base_uri": "https://localhost:8080/"
        },
        "id": "IWWDCjEgmoDp",
        "outputId": "bb2b962b-72b4-46fa-b86a-5102981fc1c5"
      },
      "execution_count": 17,
      "outputs": [
        {
          "output_type": "stream",
          "name": "stdout",
          "text": [
            "ID                 0\n",
            "Area               0\n",
            "Gross_income       0\n",
            "Greater_30         0\n",
            "Less_30            0\n",
            "Social_welfare     0\n",
            "Pension_percent    0\n",
            "Agriculture        0\n",
            "Construstion       0\n",
            "Finance            0\n",
            "ICT                0\n",
            "Industry           0\n",
            "Public             0\n",
            "Wholesale          0\n",
            "dtype: int64\n"
          ]
        }
      ]
    },
    {
      "cell_type": "code",
      "source": [
        "df.dtypes"
      ],
      "metadata": {
        "colab": {
          "base_uri": "https://localhost:8080/"
        },
        "id": "S0rQMZ3gpDmO",
        "outputId": "b91f5fa2-b7d5-42f9-81a5-64623f1d2ff5"
      },
      "execution_count": 18,
      "outputs": [
        {
          "output_type": "execute_result",
          "data": {
            "text/plain": [
              "ID                   int64\n",
              "Area                object\n",
              "Gross_income         int64\n",
              "Greater_30          object\n",
              "Less_30             object\n",
              "Social_welfare      object\n",
              "Pension_percent     object\n",
              "Agriculture         object\n",
              "Construstion        object\n",
              "Finance             object\n",
              "ICT                 object\n",
              "Industry            object\n",
              "Public             float64\n",
              "Wholesale          float64\n",
              "dtype: object"
            ]
          },
          "metadata": {},
          "execution_count": 18
        }
      ]
    },
    {
      "cell_type": "markdown",
      "source": [
        "# **Classification**"
      ],
      "metadata": {
        "id": "lzG7lL0bb2IL"
      }
    },
    {
      "cell_type": "code",
      "source": [
        "# Change gross income to be binary for classification \n",
        "df['Gross_income'] = df['Gross_income'].apply(lambda x: 0 if x > 45000 else 1)\n",
        "\n",
        "print(df)\n",
        "#0 is greater than 45000 and 1 is lower"
      ],
      "metadata": {
        "colab": {
          "base_uri": "https://localhost:8080/"
        },
        "id": "odK4-VnORhGA",
        "outputId": "f4977085-b7ae-4e4e-f2a9-e41ca5b7f9a1"
      },
      "execution_count": 19,
      "outputs": [
        {
          "output_type": "stream",
          "name": "stdout",
          "text": [
            "        ID                           Area  Gross_income Greater_30 Less_30  \\\n",
            "0        1  001  Carlow Urban, Co. Carlow             1      35617   22520   \n",
            "1        2  002 Graigue Urban, Co. Carlow             1      31854   21180   \n",
            "2        3       003 Clonmore, Co. Carlow             0      43499   25389   \n",
            "3        4    004 Hacketstown, Co. Carlow             1      33827   25791   \n",
            "4        5    005 Haroldstown, Co. Carlow             1      33790   28277   \n",
            "...    ...                            ...           ...        ...     ...   \n",
            "3404  3405  066 Shanmullagh, Co. Monaghan             1          0       0   \n",
            "3405  3406      067 Sheskin, Co. Monaghan             1      30508   22642   \n",
            "3406  3407     068 Tedavnet, Co. Monaghan             0      37411   26294   \n",
            "3407  3408     069 Tehallan, Co. Monaghan             0      40420   25634   \n",
            "3408  3409  070 Tullycorbet, Co. Monaghan             1      33448   29457   \n",
            "\n",
            "     Social_welfare Pension_percent Agriculture Construstion Finance   ICT  \\\n",
            "0              29.4            15.8         1.1            5      14    11   \n",
            "1              26.3            20.4           2          8.3    16.2   8.1   \n",
            "2              12.1              17        10.6          8.9    13.3  12.2   \n",
            "3              23.5              14         6.6         10.5     9.8  12.2   \n",
            "4              14.6            18.8        12.1         10.2      11  13.5   \n",
            "...             ...             ...         ...          ...     ...   ...   \n",
            "3404           13.1              23        15.8         12.5    11.6   2.3   \n",
            "3405           18.2            14.3        12.9         10.1     7.9   7.3   \n",
            "3406           11.1            13.9        11.3          6.2     9.7   4.2   \n",
            "3407             11            14.8         6.4          5.9     9.5   7.5   \n",
            "3408            8.8            22.5        15.6            7     7.4   7.1   \n",
            "\n",
            "     Industry  Public  Wholesale  \n",
            "0        12.6    30.9       25.3  \n",
            "1        12.7    25.7       26.9  \n",
            "2        13.9    27.3       13.7  \n",
            "3        12.5    24.7       23.7  \n",
            "4        14.6    23.2       15.4  \n",
            "...       ...     ...        ...  \n",
            "3404     25.6    20.2       12.0  \n",
            "3405     11.3    26.3       24.1  \n",
            "3406       10    33.6       24.9  \n",
            "3407     12.6    30.2       28.1  \n",
            "3408     13.2    30.1       19.5  \n",
            "\n",
            "[3409 rows x 14 columns]\n"
          ]
        }
      ]
    },
    {
      "cell_type": "code",
      "source": [
        "data = df.drop(['Area'], axis = 1)"
      ],
      "metadata": {
        "id": "zA4Y5cUaYR0_"
      },
      "execution_count": 20,
      "outputs": []
    },
    {
      "cell_type": "code",
      "source": [
        "x = data.drop(['Gross_income'], axis = 1)\n",
        "y = data['Gross_income']\n",
        "\n",
        "print(x.shape)\n",
        "print(y.shape)"
      ],
      "metadata": {
        "colab": {
          "base_uri": "https://localhost:8080/"
        },
        "id": "FNkifVltXsB8",
        "outputId": "385f5b9e-d2f8-4a1d-cc0b-98267b988b89"
      },
      "execution_count": 21,
      "outputs": [
        {
          "output_type": "stream",
          "name": "stdout",
          "text": [
            "(3409, 12)\n",
            "(3409,)\n"
          ]
        }
      ]
    },
    {
      "cell_type": "markdown",
      "source": [
        "test/train split"
      ],
      "metadata": {
        "id": "Oisp0awceZEg"
      }
    },
    {
      "cell_type": "code",
      "source": [
        "#80/20 split\n",
        "from sklearn.model_selection import train_test_split\n",
        "\n",
        "x_train, x_test, y_train, y_test = train_test_split(x, y, test_size=0.2, shuffle=True, random_state=23)\n",
        "print(x.shape)\n",
        "print(x_train.shape)\n",
        "print(x_test.shape)\n",
        "print(y.shape)\n",
        "print(y_train.shape)\n",
        "print(y_test.shape)"
      ],
      "metadata": {
        "colab": {
          "base_uri": "https://localhost:8080/"
        },
        "id": "25WWVdhfXr-k",
        "outputId": "c0c0b2dc-a552-41b0-eae1-49ee9c6ec19e"
      },
      "execution_count": 22,
      "outputs": [
        {
          "output_type": "stream",
          "name": "stdout",
          "text": [
            "(3409, 12)\n",
            "(2727, 12)\n",
            "(682, 12)\n",
            "(3409,)\n",
            "(2727,)\n",
            "(682,)\n"
          ]
        }
      ]
    },
    {
      "cell_type": "code",
      "source": [
        "print(df['Gross_income'].value_counts())"
      ],
      "metadata": {
        "colab": {
          "base_uri": "https://localhost:8080/"
        },
        "id": "3vizpvzJXr8F",
        "outputId": "855c4d24-69ab-4ab1-c100-574bf1185063"
      },
      "execution_count": 23,
      "outputs": [
        {
          "output_type": "stream",
          "name": "stdout",
          "text": [
            "1    1888\n",
            "0    1521\n",
            "Name: Gross_income, dtype: int64\n"
          ]
        }
      ]
    },
    {
      "cell_type": "code",
      "source": [
        "import matplotlib.pyplot as plt\n",
        "%matplotlib inline\n",
        "\n",
        "df['Gross_income'].value_counts().plot.bar()\n",
        "plt.title('Gross income distribution')\n",
        "plt.show()"
      ],
      "metadata": {
        "colab": {
          "base_uri": "https://localhost:8080/",
          "height": 447
        },
        "id": "XKW7dMphXr5h",
        "outputId": "f21be364-bdb6-436f-d572-d18e97cf23a1"
      },
      "execution_count": 24,
      "outputs": [
        {
          "output_type": "display_data",
          "data": {
            "text/plain": [
              "<Figure size 640x480 with 1 Axes>"
            ],
            "image/png": "[encoded data removed]"
          },
          "metadata": {}
        }
      ]
    },
    {
      "cell_type": "markdown",
      "source": [
        "logistic regression"
      ],
      "metadata": {
        "id": "GbbxvkQ_d8BI"
      }
    },
    {
      "cell_type": "code",
      "source": [
        "from sklearn.linear_model import LogisticRegression\n",
        "from sklearn.preprocessing import StandardScaler\n",
        "from sklearn.pipeline import make_pipeline\n",
        "\n",
        "lr_model = make_pipeline(StandardScaler(), LogisticRegression())\n",
        "\n",
        "print(lr_model.fit(x_train, y_train))"
      ],
      "metadata": {
        "colab": {
          "base_uri": "https://localhost:8080/"
        },
        "id": "hn6xqUJ0Xr27",
        "outputId": "83c00cda-c744-4da2-cc9b-6aa4e5a5f2d6"
      },
      "execution_count": 25,
      "outputs": [
        {
          "output_type": "stream",
          "name": "stdout",
          "text": [
            "Pipeline(steps=[('standardscaler', StandardScaler()),\n",
            "                ('logisticregression', LogisticRegression())])\n"
          ]
        }
      ]
    },
    {
      "cell_type": "code",
      "source": [
        "lr_y_pred = lr_model.predict(x_test)\n",
        "\n",
        "from sklearn.metrics import accuracy_score, confusion_matrix, precision_score, recall_score, f1_score, ConfusionMatrixDisplay\n",
        "accuracy_1 = accuracy_score(y_test, lr_y_pred)\n",
        "print(\"Accuracy:\", accuracy_1)"
      ],
      "metadata": {
        "colab": {
          "base_uri": "https://localhost:8080/"
        },
        "id": "Ph1VOALNYtOl",
        "outputId": "b3a867ef-65b5-43c2-f02f-bc2b65594699"
      },
      "execution_count": 26,
      "outputs": [
        {
          "output_type": "stream",
          "name": "stdout",
          "text": [
            "Accuracy: 0.8621700879765396\n"
          ]
        }
      ]
    },
    {
      "cell_type": "markdown",
      "source": [
        "random forest"
      ],
      "metadata": {
        "id": "_lMw_oN5ZbBs"
      }
    },
    {
      "cell_type": "code",
      "source": [
        "from sklearn.ensemble import RandomForestClassifier\n",
        "rf_model = RandomForestClassifier()\n",
        "print(rf_model.fit(x_train, y_train))"
      ],
      "metadata": {
        "colab": {
          "base_uri": "https://localhost:8080/"
        },
        "id": "XGMPGvMTZgRu",
        "outputId": "16be41b0-0abd-4eec-dc97-b9778c1bf5c4"
      },
      "execution_count": 27,
      "outputs": [
        {
          "output_type": "stream",
          "name": "stdout",
          "text": [
            "RandomForestClassifier()\n"
          ]
        }
      ]
    },
    {
      "cell_type": "code",
      "source": [
        "rf_y_pred = rf_model.predict(x_test)\n",
        "\n",
        "accuracy_2 = accuracy_score(y_test, rf_y_pred)\n",
        "print(\"Accuracy:\", accuracy_2)"
      ],
      "metadata": {
        "colab": {
          "base_uri": "https://localhost:8080/"
        },
        "id": "3peYI5vFZgOc",
        "outputId": "2b8f3066-d8e8-48a8-9c46-c204d12a24bc"
      },
      "execution_count": 28,
      "outputs": [
        {
          "output_type": "stream",
          "name": "stdout",
          "text": [
            "Accuracy: 0.8695014662756598\n"
          ]
        }
      ]
    },
    {
      "cell_type": "markdown",
      "source": [
        "Naive Bayes"
      ],
      "metadata": {
        "id": "nLEUqVr8eBbM"
      }
    },
    {
      "cell_type": "code",
      "source": [
        "from sklearn.naive_bayes import GaussianNB\n",
        "nb_model = GaussianNB()\n",
        "print(nb_model.fit(x_train, y_train))"
      ],
      "metadata": {
        "colab": {
          "base_uri": "https://localhost:8080/"
        },
        "id": "hx3bw0NjZgLi",
        "outputId": "ba539662-875b-42e0-9c08-87557aef7b1b"
      },
      "execution_count": 29,
      "outputs": [
        {
          "output_type": "stream",
          "name": "stdout",
          "text": [
            "GaussianNB()\n"
          ]
        }
      ]
    },
    {
      "cell_type": "code",
      "source": [
        "nb_y_pred = nb_model.predict(x_test)\n",
        "\n",
        "accuracy_3 = accuracy_score(y_test, nb_y_pred)\n",
        "print(\"Accuracy:\", accuracy_3)"
      ],
      "metadata": {
        "colab": {
          "base_uri": "https://localhost:8080/"
        },
        "id": "tNNjUvowZgIx",
        "outputId": "0d656eba-1c0a-43ad-f12c-49796520b539"
      },
      "execution_count": 30,
      "outputs": [
        {
          "output_type": "stream",
          "name": "stdout",
          "text": [
            "Accuracy: 0.841642228739003\n"
          ]
        }
      ]
    },
    {
      "cell_type": "code",
      "source": [
        "import numpy as np\n",
        "\n",
        "fig, ax = plt.subplots()\n",
        "x_pos = np.arange(3)\n",
        "scores = [accuracy_1, accuracy_2, accuracy_3]\n",
        "ax.bar(x_pos, scores, align='center', alpha=0.5, color = ['blue', 'violet', 'purple'])\n",
        "ax.set_xticks(x_pos)\n",
        "ax.set_xticklabels(['Logistic Regression', 'Random Forest', 'Naive Bayes'])\n",
        "ax.set_ylabel('Accuracy')\n",
        "ax.set_title('Accuracy Scores')\n",
        "\n",
        "plt.show()"
      ],
      "metadata": {
        "colab": {
          "base_uri": "https://localhost:8080/",
          "height": 452
        },
        "id": "6D55SCj7ewSg",
        "outputId": "5a00494f-61db-4151-9432-1088c33d0351"
      },
      "execution_count": 46,
      "outputs": [
        {
          "output_type": "display_data",
          "data": {
            "text/plain": [
              "<Figure size 640x480 with 1 Axes>"
            ],
            "image/png": "[encoded data removed]"
          },
          "metadata": {}
        }
      ]
    },
    {
      "cell_type": "markdown",
      "source": [
        "# **Regression**"
      ],
      "metadata": {
        "id": "B0_XRO7LEMJC"
      }
    },
    {
      "cell_type": "code",
      "source": [
        "x = data.drop(['Gross_income'], axis = 1)\n",
        "y = data['Gross_income']\n",
        "\n",
        "print(x.shape)\n",
        "print(y.shape)"
      ],
      "metadata": {
        "colab": {
          "base_uri": "https://localhost:8080/"
        },
        "id": "hrhBxBTOLTq7",
        "outputId": "bc9f57b3-ccad-4fd1-9c70-d74b8e864f76"
      },
      "execution_count": 32,
      "outputs": [
        {
          "output_type": "stream",
          "name": "stdout",
          "text": [
            "(3409, 12)\n",
            "(3409,)\n"
          ]
        }
      ]
    },
    {
      "cell_type": "code",
      "source": [
        "from sklearn.linear_model import LinearRegression\n",
        "reg_model = LinearRegression()\n",
        "reg_model.fit(x, y)"
      ],
      "metadata": {
        "colab": {
          "base_uri": "https://localhost:8080/",
          "height": 75
        },
        "id": "uh15RdzRl0l8",
        "outputId": "889fd7ad-96b3-4742-ad38-0158293d1003"
      },
      "execution_count": 33,
      "outputs": [
        {
          "output_type": "execute_result",
          "data": {
            "text/plain": [
              "LinearRegression()"
            ],
            "text/html": [
              "<style>#sk-container-id-1 {color: black;background-color: white;}#sk-container-id-1 pre{padding: 0;}#sk-container-id-1 div.sk-toggleable {background-color: white;}#sk-container-id-1 label.sk-toggleable__label {cursor: pointer;display: block;width: 100%;margin-bottom: 0;padding: 0.3em;box-sizing: border-box;text-align: center;}#sk-container-id-1 label.sk-toggleable__label-arrow:before {content: \"▸\";float: left;margin-right: 0.25em;color: #696969;}#sk-container-id-1 label.sk-toggleable__label-arrow:hover:before {color: black;}#sk-container-id-1 div.sk-estimator:hover label.sk-toggleable__label-arrow:before {color: black;}#sk-container-id-1 div.sk-toggleable__content {max-height: 0;max-width: 0;overflow: hidden;text-align: left;background-color: #f0f8ff;}#sk-container-id-1 div.sk-toggleable__content pre {margin: 0.2em;color: black;border-radius: 0.25em;background-color: #f0f8ff;}#sk-container-id-1 input.sk-toggleable__control:checked~div.sk-toggleable__content {max-height: 200px;max-width: 100%;overflow: auto;}#sk-container-id-1 input.sk-toggleable__control:checked~label.sk-toggleable__label-arrow:before {content: \"▾\";}#sk-container-id-1 div.sk-estimator input.sk-toggleable__control:checked~label.sk-toggleable__label {background-color: #d4ebff;}#sk-container-id-1 div.sk-label input.sk-toggleable__control:checked~label.sk-toggleable__label {background-color: #d4ebff;}#sk-container-id-1 input.sk-hidden--visually {border: 0;clip: rect(1px 1px 1px 1px);clip: rect(1px, 1px, 1px, 1px);height: 1px;margin: -1px;overflow: hidden;padding: 0;position: absolute;width: 1px;}#sk-container-id-1 div.sk-estimator {font-family: monospace;background-color: #f0f8ff;border: 1px dotted black;border-radius: 0.25em;box-sizing: border-box;margin-bottom: 0.5em;}#sk-container-id-1 div.sk-estimator:hover {background-color: #d4ebff;}#sk-container-id-1 div.sk-parallel-item::after {content: \"\";width: 100%;border-bottom: 1px solid gray;flex-grow: 1;}#sk-container-id-1 div.sk-label:hover label.sk-toggleable__label {background-color: #d4ebff;}#sk-container-id-1 div.sk-serial::before {content: \"\";position: absolute;border-left: 1px solid gray;box-sizing: border-box;top: 0;bottom: 0;left: 50%;z-index: 0;}#sk-container-id-1 div.sk-serial {display: flex;flex-direction: column;align-items: center;background-color: white;padding-right: 0.2em;padding-left: 0.2em;position: relative;}#sk-container-id-1 div.sk-item {position: relative;z-index: 1;}#sk-container-id-1 div.sk-parallel {display: flex;align-items: stretch;justify-content: center;background-color: white;position: relative;}#sk-container-id-1 div.sk-item::before, #sk-container-id-1 div.sk-parallel-item::before {content: \"\";position: absolute;border-left: 1px solid gray;box-sizing: border-box;top: 0;bottom: 0;left: 50%;z-index: -1;}#sk-container-id-1 div.sk-parallel-item {display: flex;flex-direction: column;z-index: 1;position: relative;background-color: white;}#sk-container-id-1 div.sk-parallel-item:first-child::after {align-self: flex-end;width: 50%;}#sk-container-id-1 div.sk-parallel-item:last-child::after {align-self: flex-start;width: 50%;}#sk-container-id-1 div.sk-parallel-item:only-child::after {width: 0;}#sk-container-id-1 div.sk-dashed-wrapped {border: 1px dashed gray;margin: 0 0.4em 0.5em 0.4em;box-sizing: border-box;padding-bottom: 0.4em;background-color: white;}#sk-container-id-1 div.sk-label label {font-family: monospace;font-weight: bold;display: inline-block;line-height: 1.2em;}#sk-container-id-1 div.sk-label-container {text-align: center;}#sk-container-id-1 div.sk-container {/* jupyter's `normalize.less` sets `[hidden] { display: none; }` but bootstrap.min.css set `[hidden] { display: none !important; }` so we also need the `!important` here to be able to override the default hidden behavior on the sphinx rendered scikit-learn.org. See: https://github.com/scikit-learn/scikit-learn/issues/21755 */display: inline-block !important;position: relative;}#sk-container-id-1 div.sk-text-repr-fallback {display: none;}</style><div id=\"sk-container-id-1\" class=\"sk-top-container\"><div class=\"sk-text-repr-fallback\"><pre>LinearRegression()</pre><b>In a Jupyter environment, please rerun this cell to show the HTML representation or trust the notebook. <br />On GitHub, the HTML representation is unable to render, please try loading this page with nbviewer.org.</b></div><div class=\"sk-container\" hidden><div class=\"sk-item\"><div class=\"sk-estimator sk-toggleable\"><input class=\"sk-toggleable__control sk-hidden--visually\" id=\"sk-estimator-id-1\" type=\"checkbox\" checked><label for=\"sk-estimator-id-1\" class=\"sk-toggleable__label sk-toggleable__label-arrow\">LinearRegression</label><div class=\"sk-toggleable__content\"><pre>LinearRegression()</pre></div></div></div></div></div>"
            ]
          },
          "metadata": {},
          "execution_count": 33
        }
      ]
    },
    {
      "cell_type": "code",
      "source": [
        "y_pred = reg_model.predict(x)"
      ],
      "metadata": {
        "id": "MUObV7IrOU9B"
      },
      "execution_count": 34,
      "outputs": []
    },
    {
      "cell_type": "code",
      "source": [
        "from sklearn.metrics import mean_squared_error, r2_score\n",
        "print(f'Mean Squared Error:', mean_squared_error(y, y_pred))\n",
        "print(f'R-squared Value:', r2_score(y, y_pred))"
      ],
      "metadata": {
        "colab": {
          "base_uri": "https://localhost:8080/"
        },
        "id": "q1ltM6JcOZC5",
        "outputId": "e8fdb32d-f7ed-43fc-87ea-3d5f0f3c80a3"
      },
      "execution_count": 35,
      "outputs": [
        {
          "output_type": "stream",
          "name": "stdout",
          "text": [
            "Mean Squared Error: 0.12504388786091816\n",
            "R-squared Value: 0.49395951099709334\n"
          ]
        }
      ]
    },
    {
      "cell_type": "code",
      "source": [
        "feature_importances = pd.Series(reg_model.coef_, index=x.columns)\n",
        "top_importance = feature_importances.abs().sort_values(ascending=False).head(5)\n",
        "print(top_importance)"
      ],
      "metadata": {
        "colab": {
          "base_uri": "https://localhost:8080/"
        },
        "id": "CieVJ1KVNg5O",
        "outputId": "5076a61d-eb76-4008-c89e-951971fa4d2c"
      },
      "execution_count": 36,
      "outputs": [
        {
          "output_type": "stream",
          "name": "stdout",
          "text": [
            "Construstion    0.052914\n",
            "ICT             0.050890\n",
            "Finance         0.049562\n",
            "Wholesale       0.049339\n",
            "Agriculture     0.049255\n",
            "dtype: float64\n"
          ]
        }
      ]
    },
    {
      "cell_type": "code",
      "source": [
        "import matplotlib.pyplot as plt\n",
        "import numpy as np"
      ],
      "metadata": {
        "id": "bnODvphcNg01"
      },
      "execution_count": 37,
      "outputs": []
    },
    {
      "cell_type": "code",
      "source": [
        "feature_names = top_importance.index\n",
        "importance_scores = top_importance.values"
      ],
      "metadata": {
        "id": "t4UIcfAcNgx8"
      },
      "execution_count": 38,
      "outputs": []
    },
    {
      "cell_type": "code",
      "source": [
        "total_score = np.sum(importance_scores)\n",
        "percentage_scores = importance_scores / total_score * 100"
      ],
      "metadata": {
        "id": "pmX0MY5vNgvO"
      },
      "execution_count": 39,
      "outputs": []
    },
    {
      "cell_type": "code",
      "source": [
        "plt.figure(figsize=(10,5))\n",
        "plt.bar(feature_names, percentage_scores, color=['blue', 'pink', 'red', 'purple', 'violet'])\n",
        "plt.title('Top Five Important Features')\n",
        "plt.xlabel('Feature Names')\n",
        "plt.ylabel('Percentage Importance')\n",
        "plt.xticks(rotation=45, ha='right', fontsize=12) \n",
        "plt.yticks(fontsize=12) \n",
        "for i, v in enumerate(percentage_scores):\n",
        "  plt.text(i, v + 1, f\"{v:.2f}%\", ha='center', color = 'red')\n",
        "plt.show()"
      ],
      "metadata": {
        "colab": {
          "base_uri": "https://localhost:8080/",
          "height": 560
        },
        "id": "VFbV4nsLNgsR",
        "outputId": "5ffa4e29-2df3-470b-9fa5-d1c183d00a3c"
      },
      "execution_count": 40,
      "outputs": [
        {
          "output_type": "display_data",
          "data": {
            "text/plain": [
              "<Figure size 1000x500 with 1 Axes>"
            ],
            "image/png": "[encoded data removed]"
          },
          "metadata": {}
        }
      ]
    },
    {
      "cell_type": "markdown",
      "source": [
        "# **Clustering**"
      ],
      "metadata": {
        "id": "9GyeJcBHXfM-"
      }
    },
    {
      "cell_type": "code",
      "source": [
        "x = data.drop('Gross_income', axis=1)\n",
        "y = data['Gross_income']"
      ],
      "metadata": {
        "id": "j1TTznB1Xsa5"
      },
      "execution_count": 41,
      "outputs": []
    },
    {
      "cell_type": "code",
      "source": [
        "from sklearn.preprocessing import StandardScaler\n",
        "\n",
        "scaler = StandardScaler()\n",
        "x_sc = scaler.fit_transform(x)"
      ],
      "metadata": {
        "id": "LoF2AcH3aViv"
      },
      "execution_count": 42,
      "outputs": []
    },
    {
      "cell_type": "code",
      "source": [
        "from sklearn.cluster import KMeans\n",
        "\n",
        "kmeans = KMeans(n_clusters=5, random_state=42)\n",
        "kmeans.fit(x_sc)"
      ],
      "metadata": {
        "colab": {
          "base_uri": "https://localhost:8080/",
          "height": 109
        },
        "id": "7BIM9dQOQ-JU",
        "outputId": "f5883784-ad02-41d5-d933-8dc94d371912"
      },
      "execution_count": 43,
      "outputs": [
        {
          "output_type": "stream",
          "name": "stderr",
          "text": [
            "/usr/local/lib/python3.10/dist-packages/sklearn/cluster/_kmeans.py:870: FutureWarning: The default value of `n_init` will change from 10 to 'auto' in 1.4. Set the value of `n_init` explicitly to suppress the warning\n",
            "  warnings.warn(\n"
          ]
        },
        {
          "output_type": "execute_result",
          "data": {
            "text/plain": [
              "KMeans(n_clusters=5, random_state=42)"
            ],
            "text/html": [
              "<style>#sk-container-id-2 {color: black;background-color: white;}#sk-container-id-2 pre{padding: 0;}#sk-container-id-2 div.sk-toggleable {background-color: white;}#sk-container-id-2 label.sk-toggleable__label {cursor: pointer;display: block;width: 100%;margin-bottom: 0;padding: 0.3em;box-sizing: border-box;text-align: center;}#sk-container-id-2 label.sk-toggleable__label-arrow:before {content: \"▸\";float: left;margin-right: 0.25em;color: #696969;}#sk-container-id-2 label.sk-toggleable__label-arrow:hover:before {color: black;}#sk-container-id-2 div.sk-estimator:hover label.sk-toggleable__label-arrow:before {color: black;}#sk-container-id-2 div.sk-toggleable__content {max-height: 0;max-width: 0;overflow: hidden;text-align: left;background-color: #f0f8ff;}#sk-container-id-2 div.sk-toggleable__content pre {margin: 0.2em;color: black;border-radius: 0.25em;background-color: #f0f8ff;}#sk-container-id-2 input.sk-toggleable__control:checked~div.sk-toggleable__content {max-height: 200px;max-width: 100%;overflow: auto;}#sk-container-id-2 input.sk-toggleable__control:checked~label.sk-toggleable__label-arrow:before {content: \"▾\";}#sk-container-id-2 div.sk-estimator input.sk-toggleable__control:checked~label.sk-toggleable__label {background-color: #d4ebff;}#sk-container-id-2 div.sk-label input.sk-toggleable__control:checked~label.sk-toggleable__label {background-color: #d4ebff;}#sk-container-id-2 input.sk-hidden--visually {border: 0;clip: rect(1px 1px 1px 1px);clip: rect(1px, 1px, 1px, 1px);height: 1px;margin: -1px;overflow: hidden;padding: 0;position: absolute;width: 1px;}#sk-container-id-2 div.sk-estimator {font-family: monospace;background-color: #f0f8ff;border: 1px dotted black;border-radius: 0.25em;box-sizing: border-box;margin-bottom: 0.5em;}#sk-container-id-2 div.sk-estimator:hover {background-color: #d4ebff;}#sk-container-id-2 div.sk-parallel-item::after {content: \"\";width: 100%;border-bottom: 1px solid gray;flex-grow: 1;}#sk-container-id-2 div.sk-label:hover label.sk-toggleable__label {background-color: #d4ebff;}#sk-container-id-2 div.sk-serial::before {content: \"\";position: absolute;border-left: 1px solid gray;box-sizing: border-box;top: 0;bottom: 0;left: 50%;z-index: 0;}#sk-container-id-2 div.sk-serial {display: flex;flex-direction: column;align-items: center;background-color: white;padding-right: 0.2em;padding-left: 0.2em;position: relative;}#sk-container-id-2 div.sk-item {position: relative;z-index: 1;}#sk-container-id-2 div.sk-parallel {display: flex;align-items: stretch;justify-content: center;background-color: white;position: relative;}#sk-container-id-2 div.sk-item::before, #sk-container-id-2 div.sk-parallel-item::before {content: \"\";position: absolute;border-left: 1px solid gray;box-sizing: border-box;top: 0;bottom: 0;left: 50%;z-index: -1;}#sk-container-id-2 div.sk-parallel-item {display: flex;flex-direction: column;z-index: 1;position: relative;background-color: white;}#sk-container-id-2 div.sk-parallel-item:first-child::after {align-self: flex-end;width: 50%;}#sk-container-id-2 div.sk-parallel-item:last-child::after {align-self: flex-start;width: 50%;}#sk-container-id-2 div.sk-parallel-item:only-child::after {width: 0;}#sk-container-id-2 div.sk-dashed-wrapped {border: 1px dashed gray;margin: 0 0.4em 0.5em 0.4em;box-sizing: border-box;padding-bottom: 0.4em;background-color: white;}#sk-container-id-2 div.sk-label label {font-family: monospace;font-weight: bold;display: inline-block;line-height: 1.2em;}#sk-container-id-2 div.sk-label-container {text-align: center;}#sk-container-id-2 div.sk-container {/* jupyter's `normalize.less` sets `[hidden] { display: none; }` but bootstrap.min.css set `[hidden] { display: none !important; }` so we also need the `!important` here to be able to override the default hidden behavior on the sphinx rendered scikit-learn.org. See: https://github.com/scikit-learn/scikit-learn/issues/21755 */display: inline-block !important;position: relative;}#sk-container-id-2 div.sk-text-repr-fallback {display: none;}</style><div id=\"sk-container-id-2\" class=\"sk-top-container\"><div class=\"sk-text-repr-fallback\"><pre>KMeans(n_clusters=5, random_state=42)</pre><b>In a Jupyter environment, please rerun this cell to show the HTML representation or trust the notebook. <br />On GitHub, the HTML representation is unable to render, please try loading this page with nbviewer.org.</b></div><div class=\"sk-container\" hidden><div class=\"sk-item\"><div class=\"sk-estimator sk-toggleable\"><input class=\"sk-toggleable__control sk-hidden--visually\" id=\"sk-estimator-id-2\" type=\"checkbox\" checked><label for=\"sk-estimator-id-2\" class=\"sk-toggleable__label sk-toggleable__label-arrow\">KMeans</label><div class=\"sk-toggleable__content\"><pre>KMeans(n_clusters=5, random_state=42)</pre></div></div></div></div></div>"
            ]
          },
          "metadata": {},
          "execution_count": 43
        }
      ]
    },
    {
      "cell_type": "code",
      "source": [
        "data['cluster'] = kmeans.labels_\n",
        "clusters = data.groupby('cluster')['Gross_income'].mean()\n",
        "print(clusters)"
      ],
      "metadata": {
        "colab": {
          "base_uri": "https://localhost:8080/"
        },
        "id": "owqUceapa4_V",
        "outputId": "6b3f60cd-b60a-45ca-bf34-476fbab8b0aa"
      },
      "execution_count": 44,
      "outputs": [
        {
          "output_type": "stream",
          "name": "stdout",
          "text": [
            "cluster\n",
            "0    0.788396\n",
            "1    0.915114\n",
            "2    0.266402\n",
            "3    0.174497\n",
            "4    0.673439\n",
            "Name: Gross_income, dtype: float64\n"
          ]
        }
      ]
    },
    {
      "cell_type": "code",
      "source": [
        "import matplotlib.pyplot as plt\n",
        "\n",
        "plt.bar(clusters.index, clusters.values, color=['blue', 'pink', 'violet', 'cyan', 'purple'])\n",
        "plt.xlabel('Cluster')\n",
        "plt.ylabel('Average Household Gross Income')\n",
        "plt.title('Average Household Gross Income by Cluster')\n",
        "\n",
        "plt.show()"
      ],
      "metadata": {
        "colab": {
          "base_uri": "https://localhost:8080/",
          "height": 472
        },
        "id": "6UDVt8KCcxw9",
        "outputId": "2a5dc53b-ca92-4cb8-9357-017d0b3e6425"
      },
      "execution_count": 45,
      "outputs": [
        {
          "output_type": "display_data",
          "data": {
            "text/plain": [
              "<Figure size 640x480 with 1 Axes>"
            ],
            "image/png": "[encoded data removed]"
          },
          "metadata": {}
        }
      ]
    }
  ]
}